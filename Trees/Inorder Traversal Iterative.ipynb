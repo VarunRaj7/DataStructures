{
 "cells": [
  {
   "cell_type": "code",
   "execution_count": 9,
   "metadata": {},
   "outputs": [],
   "source": [
    "class TreeNode:\n",
    "    def __init__(self, val=0, left=None, right=None):\n",
    "        self.val = val\n",
    "        self.left = left\n",
    "        self.right = right\n",
    "\n",
    "def build(head, t):\n",
    "    if t:\n",
    "        head.val = t[\"value\"]\n",
    "        head.left = build(TreeNode(None), t[\"left\"])\n",
    "        head.right = build(TreeNode(None), t[\"right\"])\n",
    "        return head\n",
    "    return None        \n",
    "\n",
    "class Solution:\n",
    "    def inorderTraversal(self, root):\n",
    "        res = []\n",
    "        stack = []\n",
    "        cur = root\n",
    "        while(cur or stack):\n",
    "            while(cur):\n",
    "                stack.append(cur)\n",
    "                cur = cur.left\n",
    "            cur = stack.pop()\n",
    "            res.append(cur.val)\n",
    "            cur = cur.right\n",
    "            \n",
    "        return res"
   ]
  },
  {
   "cell_type": "code",
   "execution_count": 10,
   "metadata": {},
   "outputs": [
    {
     "name": "stdout",
     "output_type": "stream",
     "text": [
      "{'value': 3, 'left': {'value': 1, 'left': None, 'right': None}, 'right': {'value': 5, 'left': {'value': 4, 'left': None, 'right': None}, 'right': {'value': 6, 'left': None, 'right': None}}}\n"
     ]
    }
   ],
   "source": [
    "t = {\n",
    "    \"value\": 3,\n",
    "    \"left\": {\n",
    "        \"value\": 1,\n",
    "        \"left\": None,\n",
    "        \"right\": None\n",
    "    },\n",
    "    \"right\": {\n",
    "        \"value\": 5,\n",
    "        \"left\": {\n",
    "            \"value\": 4,\n",
    "            \"left\": None,\n",
    "            \"right\": None\n",
    "        },\n",
    "        \"right\": {\n",
    "            \"value\": 6,\n",
    "            \"left\": None,\n",
    "            \"right\": None\n",
    "        }\n",
    "    }\n",
    "}\n",
    "\n",
    "print(t)\n",
    "\n",
    "head = build(TreeNode(None), t)"
   ]
  },
  {
   "cell_type": "code",
   "execution_count": 11,
   "metadata": {},
   "outputs": [
    {
     "data": {
      "text/plain": [
       "[1, 3, 4, 5, 6]"
      ]
     },
     "execution_count": 11,
     "metadata": {},
     "output_type": "execute_result"
    }
   ],
   "source": [
    "Solution().inorderTraversal(head)"
   ]
  }
 ],
 "metadata": {
  "kernelspec": {
   "display_name": "Python 3",
   "language": "python",
   "name": "python3"
  },
  "language_info": {
   "codemirror_mode": {
    "name": "ipython",
    "version": 3
   },
   "file_extension": ".py",
   "mimetype": "text/x-python",
   "name": "python",
   "nbconvert_exporter": "python",
   "pygments_lexer": "ipython3",
   "version": "3.7.6"
  }
 },
 "nbformat": 4,
 "nbformat_minor": 4
}
