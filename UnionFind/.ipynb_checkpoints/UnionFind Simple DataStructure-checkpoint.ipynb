{
 "cells": [
  {
   "cell_type": "code",
   "execution_count": null,
   "metadata": {},
   "outputs": [],
   "source": [
    "class unionFind:\n",
    "    \n",
    "    def __init__(self, n):\n",
    "        self.n = n\n",
    "        self.arr = list(range(n+1))\n",
    "        \n",
    "    def find(self, x):\n",
    "        # print(self.arr, x)\n",
    "        while(self.arr[x]!=x):\n",
    "            x = self.arr[x]\n",
    "            \n",
    "        # Should add path compression\n",
    "        \n",
    "        return x\n",
    "    \n",
    "    def union(self, x, y):\n",
    "        # print(self.arr, x, y)\n",
    "        px = self.find(x)\n",
    "        py = self.find(y)\n",
    "        \n",
    "        if px!=py:\n",
    "            if px<py:\n",
    "                self.arr[py] = px\n",
    "            else:\n",
    "                self.arr[px] = py\n",
    "        "
   ]
  }
 ],
 "metadata": {
  "kernelspec": {
   "display_name": "Python 3",
   "language": "python",
   "name": "python3"
  },
  "language_info": {
   "codemirror_mode": {
    "name": "ipython",
    "version": 3
   },
   "file_extension": ".py",
   "mimetype": "text/x-python",
   "name": "python",
   "nbconvert_exporter": "python",
   "pygments_lexer": "ipython3",
   "version": "3.7.6"
  }
 },
 "nbformat": 4,
 "nbformat_minor": 4
}
